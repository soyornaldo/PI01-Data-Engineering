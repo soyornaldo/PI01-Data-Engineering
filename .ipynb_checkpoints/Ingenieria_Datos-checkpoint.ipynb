{
 "cells": [
  {
   "cell_type": "code",
   "execution_count": 1,
   "id": "35bdf577-147c-42b8-a811-654d88aec6ab",
   "metadata": {},
   "outputs": [],
   "source": [
    "import pandas as pd\n",
    "import numpy as np"
   ]
  },
  {
   "cell_type": "code",
   "execution_count": 2,
   "id": "8d01652b-9076-4cfc-a963-f5da9735e02a",
   "metadata": {},
   "outputs": [],
   "source": [
    "# herramienta para trabjar los DataFrames como hojas de excel\n",
    "# pip install mitoinstaller\n",
    "import mitosheet \n",
    "# mitosheet.sheet()"
   ]
  },
  {
   "cell_type": "markdown",
   "id": "82c46544-e024-4a7a-836a-bbdbbd90d7da",
   "metadata": {},
   "source": [
    "# Cargo los datos que me dan"
   ]
  },
  {
   "cell_type": "code",
   "execution_count": 44,
   "id": "93f28d70-f0e8-45b3-9e5e-a9ed57f72b70",
   "metadata": {},
   "outputs": [],
   "source": [
    "amazon = pd.read_csv(r\"Datasets/amazon_prime_titles-score.csv\")\n",
    "disney = pd.read_csv(r\"Datasets/disney_plus_titles-score.csv\")\n",
    "hulu = pd.read_csv(r\"Datasets/hulu_titles-score (2).csv\")\n",
    "netflix = pd.read_csv(r\"Datasets/netflix_titles-score.csv\")"
   ]
  },
  {
   "cell_type": "markdown",
   "id": "0686688f-ab6f-4e90-ae8d-ff0bd937fddb",
   "metadata": {},
   "source": [
    "# Limpieza de Datos"
   ]
  },
  {
   "cell_type": "markdown",
   "id": "92027db4-9eb9-4798-905a-c11d53a1b7ee",
   "metadata": {},
   "source": [
    "## Generar campo **`id`**: Cada id se compondrá de la primera letra del nombre de la plataforma, seguido del show_id ya presente en los datasets (ejemplo para títulos de Amazon = **`as123`**)"
   ]
  },
  {
   "cell_type": "markdown",
   "id": "90e55dcd-691f-4a7d-9b9b-59272260c2a3",
   "metadata": {},
   "source": [
    "### Primero rectifico los tipos de datos"
   ]
  },
  {
   "cell_type": "code",
   "execution_count": 45,
   "id": "a6223c26-5fed-4464-bfda-de165120ad22",
   "metadata": {},
   "outputs": [],
   "source": [
    "# amazon\n",
    "amazon['show_id'] = amazon['show_id'].astype('str')\n",
    "amazon['type'] = amazon['type'].astype('category')\n",
    "amazon['title'] = amazon['title'].astype('str')\n",
    "amazon['director'] = amazon['director'].astype('str')\n",
    "amazon['cast'] = amazon['cast'].astype('str')\n",
    "amazon['country'] = amazon['country'].astype('str')\n",
    "amazon['date_added'] = pd.to_datetime(amazon['date_added'], infer_datetime_format=True, errors='coerce')\n",
    "amazon['release_year'] = amazon['release_year'].astype('int16')\n",
    "amazon['rating'] = amazon['rating'].astype('str')\n",
    "amazon['listed_in'] = amazon['listed_in'].astype('str')\n",
    "amazon['description'] = amazon['description'].astype('str')\n",
    "amazon['score'] = amazon['score'].astype('int8')\n"
   ]
  },
  {
   "cell_type": "code",
   "execution_count": 58,
   "id": "91c94c41-cd7b-4a30-82c4-d34ab77edbe7",
   "metadata": {},
   "outputs": [],
   "source": [
    "amazon['id'] = 'a' + amazon['show_id']"
   ]
  },
  {
   "cell_type": "code",
   "execution_count": 59,
   "id": "af783532-927c-488a-9ac1-c5e0d3934a20",
   "metadata": {},
   "outputs": [],
   "source": [
    "amazon['id'] = amazon['id'].astype('str')"
   ]
  },
  {
   "cell_type": "code",
   "execution_count": 75,
   "id": "38e9b2a5-5ba0-427b-bce5-618a9945111e",
   "metadata": {},
   "outputs": [],
   "source": [
    "# disney\n",
    "disney['show_id'] = disney['show_id'].astype('str')\n",
    "disney['type'] = disney['type'].astype('category')\n",
    "disney['title'] = disney['title'].astype('str')\n",
    "disney['director'] = disney['director'].astype('str')\n",
    "disney['cast'] = disney['cast'].astype('str')\n",
    "disney['country'] = disney['country'].astype('str')\n",
    "disney['date_added'] = pd.to_datetime(disney['date_added'], infer_datetime_format=True, errors='coerce')\n",
    "disney['release_year'] = disney['release_year'].astype('int16')\n",
    "disney['rating'] = disney['rating'].astype('str')\n",
    "disney['listed_in'] = disney['listed_in'].astype('str')\n",
    "disney['description'] = disney['description'].astype('str')\n",
    "disney['score'] = disney['score'].astype('int8')"
   ]
  },
  {
   "cell_type": "code",
   "execution_count": 65,
   "id": "f41aeb32-94c1-49f3-b952-7710258c4164",
   "metadata": {},
   "outputs": [],
   "source": [
    "disney['id'] = 'd' + disney['show_id']"
   ]
  },
  {
   "cell_type": "code",
   "execution_count": 66,
   "id": "c7e140d5-12bf-48de-9fa9-955ba94e305d",
   "metadata": {},
   "outputs": [],
   "source": [
    "disney['id'] = disney['id'].astype('str')"
   ]
  },
  {
   "cell_type": "code",
   "execution_count": 76,
   "id": "819dd11b-65b7-42da-bc07-16626fe7d176",
   "metadata": {},
   "outputs": [],
   "source": [
    "# hulu\n",
    "hulu['show_id'] = hulu['show_id'].astype('str')\n",
    "hulu['type'] = hulu['type'].astype('category')\n",
    "hulu['title'] = hulu['title'].astype('str')\n",
    "hulu['director'] = hulu['director'].astype('str')\n",
    "hulu['cast'] = hulu['cast'].astype('str')\n",
    "hulu['country'] = hulu['country'].astype('str')\n",
    "hulu['date_added'] = pd.to_datetime(hulu['date_added'], infer_datetime_format=True, errors='coerce')\n",
    "hulu['release_year'] = hulu['release_year'].astype('int16')\n",
    "hulu['rating'] = hulu['rating'].astype('str')\n",
    "hulu['listed_in'] = hulu['listed_in'].astype('str')\n",
    "hulu['description'] = hulu['description'].astype('str')\n",
    "hulu['score'] = hulu['score'].astype('int8')"
   ]
  },
  {
   "cell_type": "code",
   "execution_count": 78,
   "id": "664c32df-fa95-4c91-a1d0-2d74b22e7cdb",
   "metadata": {},
   "outputs": [],
   "source": [
    "hulu['id'] = 'h' + hulu['show_id']"
   ]
  },
  {
   "cell_type": "code",
   "execution_count": 80,
   "id": "4b8d7ede-c7fa-4daa-831b-df458a9c2cd9",
   "metadata": {},
   "outputs": [],
   "source": [
    "hulu['id'] = hulu['id'].astype('str')"
   ]
  },
  {
   "cell_type": "code",
   "execution_count": 86,
   "id": "fa1f5531-df08-4ccc-8a3b-8341748d9818",
   "metadata": {},
   "outputs": [],
   "source": [
    "# netflix\n",
    "netflix['show_id'] = netflix['show_id'].astype('str')\n",
    "netflix['type'] = netflix['type'].astype('category')\n",
    "netflix['title'] = netflix['title'].astype('str')\n",
    "netflix['director'] = netflix['director'].astype('str')\n",
    "netflix['cast'] = netflix['cast'].astype('str')\n",
    "netflix['country'] = netflix['country'].astype('str')\n",
    "netflix['date_added'] = pd.to_datetime(netflix['date_added'], infer_datetime_format=True, errors='coerce')\n",
    "netflix['release_year'] = netflix['release_year'].astype('int16')\n",
    "netflix['rating'] = netflix['rating'].astype('str')\n",
    "netflix['listed_in'] = netflix['listed_in'].astype('str')\n",
    "netflix['description'] = netflix['description'].astype('str')\n",
    "netflix['score'] = netflix['score'].astype('int8')"
   ]
  },
  {
   "cell_type": "code",
   "execution_count": 87,
   "id": "6b888d68-d1c5-4e38-b9c0-db928faf4c35",
   "metadata": {},
   "outputs": [],
   "source": [
    "netflix['id'] = 'n' + netflix['show_id']"
   ]
  },
  {
   "cell_type": "code",
   "execution_count": 88,
   "id": "e427adea-3cec-4146-bbd6-af33b86816f7",
   "metadata": {},
   "outputs": [],
   "source": [
    "netflix['id'] = netflix['id'].astype('str')"
   ]
  },
  {
   "cell_type": "markdown",
   "id": "2326a2fb-6651-4f0f-b1ff-43087fa354cf",
   "metadata": {},
   "source": [
    "## Los valores nulos del campo rating deberán reemplazarse por el string “**`G`**” (corresponde al maturity rating: “general for all audiences”"
   ]
  },
  {
   "cell_type": "code",
   "execution_count": 114,
   "id": "db0476f1-072e-4b52-839e-d82de95b84d4",
   "metadata": {},
   "outputs": [],
   "source": [
    "amazon.loc[amazon.rating == 'nan','rating'] = 'G'\n",
    "amazon.loc[amazon.rating == 'NaN','rating'] = 'G'"
   ]
  },
  {
   "cell_type": "code",
   "execution_count": 116,
   "id": "c3aef421-46ef-4aa4-9567-32ff31374012",
   "metadata": {},
   "outputs": [],
   "source": [
    "disney.loc[disney.rating == 'nan','rating'] = 'G'\n",
    "disney.loc[disney.rating == 'NaN','rating'] = 'G'"
   ]
  },
  {
   "cell_type": "code",
   "execution_count": 121,
   "id": "d81428da-f824-4225-86de-bbacb4126698",
   "metadata": {},
   "outputs": [],
   "source": [
    "hulu.loc[hulu.rating == 'nan','rating'] = 'G'\n",
    "hulu.loc[hulu.rating == 'NaN','rating'] = 'G'"
   ]
  },
  {
   "cell_type": "code",
   "execution_count": 125,
   "id": "8e4afd8d-c0d5-49da-8123-6c60dd78cb88",
   "metadata": {},
   "outputs": [],
   "source": [
    "netflix.loc[netflix.rating == 'nan','rating'] = 'G'\n",
    "netflix.loc[netflix.rating == 'NaN','rating'] = 'G'"
   ]
  },
  {
   "cell_type": "code",
   "execution_count": 126,
   "id": "0b259d1a-e32a-4395-9e28-7bf2e8bf052c",
   "metadata": {},
   "outputs": [
    {
     "data": {
      "text/plain": [
       "(4, 16)"
      ]
     },
     "execution_count": 126,
     "metadata": {},
     "output_type": "execute_result"
    }
   ],
   "source": [
    "netflix[netflix.rating == 'G'].shape"
   ]
  },
  {
   "cell_type": "code",
   "execution_count": 124,
   "id": "1186cfef-196a-4574-9e6b-400cefad2575",
   "metadata": {},
   "outputs": [
    {
     "data": {
      "text/plain": [
       "(8807, 16)"
      ]
     },
     "execution_count": 124,
     "metadata": {},
     "output_type": "execute_result"
    }
   ],
   "source": [
    "netflix.shape"
   ]
  },
  {
   "cell_type": "markdown",
   "id": "5671301c-4283-4453-9c8c-995e4fa61a04",
   "metadata": {},
   "source": [
    "##  De haber fechas, deberán tener el formato **`AAAA-mm-dd`**"
   ]
  },
  {
   "cell_type": "code",
   "execution_count": 50,
   "id": "10646f6b-d111-446d-99df-76f3abfa9bd6",
   "metadata": {},
   "outputs": [],
   "source": [
    "amazon['date_added'] = pd.to_datetime(amazon['date_added'], infer_datetime_format=True, errors='coerce')"
   ]
  },
  {
   "cell_type": "code",
   "execution_count": 54,
   "id": "b3887582-0785-469d-9ff1-4ccbcea88290",
   "metadata": {},
   "outputs": [
    {
     "data": {
      "text/plain": [
       "0   2021-03-30\n",
       "1   2021-03-30\n",
       "2   2021-03-30\n",
       "3   2021-03-30\n",
       "4   2021-03-30\n",
       "Name: date_added, dtype: datetime64[ns]"
      ]
     },
     "execution_count": 54,
     "metadata": {},
     "output_type": "execute_result"
    }
   ],
   "source": [
    "amazon['date_added'].head()"
   ]
  },
  {
   "cell_type": "code",
   "execution_count": 69,
   "id": "51165b0c-97a1-422a-91e0-8583de62fb32",
   "metadata": {},
   "outputs": [],
   "source": [
    "disney['date_added'] = pd.to_datetime(disney['date_added'], infer_datetime_format=True, errors='coerce')"
   ]
  },
  {
   "cell_type": "code",
   "execution_count": 70,
   "id": "3ca19b56-a4bb-4934-9f78-b4145db0e923",
   "metadata": {},
   "outputs": [
    {
     "data": {
      "text/plain": [
       "0   2021-03-30\n",
       "1   2021-03-30\n",
       "2   2021-03-30\n",
       "3   2021-03-30\n",
       "4   2021-03-30\n",
       "Name: date_added, dtype: datetime64[ns]"
      ]
     },
     "execution_count": 70,
     "metadata": {},
     "output_type": "execute_result"
    }
   ],
   "source": [
    "disney['date_added'].head()"
   ]
  },
  {
   "cell_type": "code",
   "execution_count": 81,
   "id": "9474fe4c-ff8c-4408-b200-5cfdb4f54c80",
   "metadata": {},
   "outputs": [],
   "source": [
    "hulu['date_added'] = pd.to_datetime(hulu['date_added'], infer_datetime_format=True, errors='coerce')"
   ]
  },
  {
   "cell_type": "code",
   "execution_count": 82,
   "id": "a9ae17bf-3bf9-4ecd-a2b0-894e5b3a28a2",
   "metadata": {},
   "outputs": [
    {
     "data": {
      "text/plain": [
       "0   2021-10-24\n",
       "1   2021-10-23\n",
       "2   2021-10-23\n",
       "3   2021-10-22\n",
       "4   2021-10-22\n",
       "Name: date_added, dtype: datetime64[ns]"
      ]
     },
     "execution_count": 82,
     "metadata": {},
     "output_type": "execute_result"
    }
   ],
   "source": [
    "hulu['date_added'].head()"
   ]
  },
  {
   "cell_type": "code",
   "execution_count": 89,
   "id": "c41ff720-1389-4894-9bd3-362acd4fce2b",
   "metadata": {},
   "outputs": [],
   "source": [
    "netflix['date_added'] = pd.to_datetime(netflix['date_added'], infer_datetime_format=True, errors='coerce')"
   ]
  },
  {
   "cell_type": "code",
   "execution_count": 90,
   "id": "81e4dbc8-e809-4adf-bf3d-ab21f3fd216f",
   "metadata": {},
   "outputs": [
    {
     "data": {
      "text/plain": [
       "0   2021-09-25\n",
       "1   2021-09-24\n",
       "2   2021-09-24\n",
       "3   2021-09-24\n",
       "4   2021-09-24\n",
       "Name: date_added, dtype: datetime64[ns]"
      ]
     },
     "execution_count": 90,
     "metadata": {},
     "output_type": "execute_result"
    }
   ],
   "source": [
    "netflix['date_added'].head()"
   ]
  },
  {
   "cell_type": "markdown",
   "id": "cb17daea-a660-428b-8590-7969ffe5c0a4",
   "metadata": {},
   "source": [
    "## El campo ***duration*** debe convertirse en dos campos: **`duration_int`** y **`duration_type`**. El primero será un integer y el segundo un string indicando la unidad de medición de duración: min (minutos) o season (temporadas)"
   ]
  },
  {
   "cell_type": "code",
   "execution_count": 55,
   "id": "1c680e41-904e-467b-a321-921f2b486ff0",
   "metadata": {},
   "outputs": [],
   "source": [
    "amazon[['duration_int', 'duration_type']] = amazon['duration'].str.split(' ', n=-1, expand=True, regex=None)\n",
    "amazon = amazon[amazon.columns[:10].tolist() + ['duration_int', 'duration_type'] + amazon.columns[10:-2].tolist()]"
   ]
  },
  {
   "cell_type": "code",
   "execution_count": 56,
   "id": "be184d9b-b13e-45e6-923e-1573057aa1c2",
   "metadata": {},
   "outputs": [
    {
     "data": {
      "text/html": [
       "<div><div id=d2b79b67-49ae-4735-a43e-ac78199a0e73 style=\"display:none; background-color:#9D6CFF; color:white; width:200px; height:30px; padding-left:5px; border-radius:4px; flex-direction:row; justify-content:space-around; align-items:center;\" onmouseover=\"this.style.backgroundColor='#BA9BF8'\" onmouseout=\"this.style.backgroundColor='#9D6CFF'\" onclick=\"window.commands?.execute('create-mitosheet-from-dataframe-output');\">See Full Dataframe in Mito</div> <script> if (window.commands?.hasCommand('create-mitosheet-from-dataframe-output')) document.getElementById('d2b79b67-49ae-4735-a43e-ac78199a0e73').style.display = 'flex' </script> <table border=\"1\" class=\"dataframe\">\n",
       "  <thead>\n",
       "    <tr style=\"text-align: right;\">\n",
       "      <th></th>\n",
       "      <th>duration_int</th>\n",
       "      <th>duration_type</th>\n",
       "    </tr>\n",
       "  </thead>\n",
       "  <tbody>\n",
       "    <tr>\n",
       "      <th>0</th>\n",
       "      <td>113</td>\n",
       "      <td>min</td>\n",
       "    </tr>\n",
       "    <tr>\n",
       "      <th>1</th>\n",
       "      <td>110</td>\n",
       "      <td>min</td>\n",
       "    </tr>\n",
       "    <tr>\n",
       "      <th>2</th>\n",
       "      <td>74</td>\n",
       "      <td>min</td>\n",
       "    </tr>\n",
       "    <tr>\n",
       "      <th>3</th>\n",
       "      <td>69</td>\n",
       "      <td>min</td>\n",
       "    </tr>\n",
       "    <tr>\n",
       "      <th>4</th>\n",
       "      <td>45</td>\n",
       "      <td>min</td>\n",
       "    </tr>\n",
       "  </tbody>\n",
       "</table></div>"
      ],
      "text/plain": [
       "  duration_int duration_type\n",
       "0          113           min\n",
       "1          110           min\n",
       "2           74           min\n",
       "3           69           min\n",
       "4           45           min"
      ]
     },
     "execution_count": 56,
     "metadata": {},
     "output_type": "execute_result"
    }
   ],
   "source": [
    "amazon[['duration_int', 'duration_type']].head()"
   ]
  },
  {
   "cell_type": "code",
   "execution_count": 71,
   "id": "2eb2e228-9a64-45b9-87cc-22179b1e1e41",
   "metadata": {},
   "outputs": [],
   "source": [
    "disney[['duration_int', 'duration_type']] = disney['duration'].str.split(' ', n=-1, expand=True, regex=None)\n",
    "disney = disney[disney.columns[:10].tolist() + ['duration_int', 'duration_type'] + disney.columns[10:-2].tolist()]"
   ]
  },
  {
   "cell_type": "code",
   "execution_count": 72,
   "id": "e4b67a08-55db-4b9b-a731-5477bb6890a8",
   "metadata": {},
   "outputs": [
    {
     "data": {
      "text/html": [
       "<div><div id=aff0799c-9cec-43b6-8ec0-e67dac897c56 style=\"display:none; background-color:#9D6CFF; color:white; width:200px; height:30px; padding-left:5px; border-radius:4px; flex-direction:row; justify-content:space-around; align-items:center;\" onmouseover=\"this.style.backgroundColor='#BA9BF8'\" onmouseout=\"this.style.backgroundColor='#9D6CFF'\" onclick=\"window.commands?.execute('create-mitosheet-from-dataframe-output');\">See Full Dataframe in Mito</div> <script> if (window.commands?.hasCommand('create-mitosheet-from-dataframe-output')) document.getElementById('aff0799c-9cec-43b6-8ec0-e67dac897c56').style.display = 'flex' </script> <table border=\"1\" class=\"dataframe\">\n",
       "  <thead>\n",
       "    <tr style=\"text-align: right;\">\n",
       "      <th></th>\n",
       "      <th>duration_int</th>\n",
       "      <th>duration_type</th>\n",
       "    </tr>\n",
       "  </thead>\n",
       "  <tbody>\n",
       "    <tr>\n",
       "      <th>0</th>\n",
       "      <td>23</td>\n",
       "      <td>min</td>\n",
       "    </tr>\n",
       "    <tr>\n",
       "      <th>1</th>\n",
       "      <td>91</td>\n",
       "      <td>min</td>\n",
       "    </tr>\n",
       "    <tr>\n",
       "      <th>2</th>\n",
       "      <td>23</td>\n",
       "      <td>min</td>\n",
       "    </tr>\n",
       "    <tr>\n",
       "      <th>3</th>\n",
       "      <td>41</td>\n",
       "      <td>min</td>\n",
       "    </tr>\n",
       "    <tr>\n",
       "      <th>4</th>\n",
       "      <td>1</td>\n",
       "      <td>Season</td>\n",
       "    </tr>\n",
       "  </tbody>\n",
       "</table></div>"
      ],
      "text/plain": [
       "  duration_int duration_type\n",
       "0           23           min\n",
       "1           91           min\n",
       "2           23           min\n",
       "3           41           min\n",
       "4            1        Season"
      ]
     },
     "execution_count": 72,
     "metadata": {},
     "output_type": "execute_result"
    }
   ],
   "source": [
    "disney[['duration_int', 'duration_type']].head()"
   ]
  },
  {
   "cell_type": "code",
   "execution_count": 83,
   "id": "bbcd4a62-242c-4d08-a4bd-57bc9cf4dc1c",
   "metadata": {},
   "outputs": [],
   "source": [
    "hulu[['duration_int', 'duration_type']] = hulu['duration'].str.split(' ', n=-1, expand=True, regex=None)\n",
    "hulu = hulu[hulu.columns[:10].tolist() + ['duration_int', 'duration_type'] + hulu.columns[10:-2].tolist()]"
   ]
  },
  {
   "cell_type": "code",
   "execution_count": 84,
   "id": "418195c1-3445-4ad3-a7f2-11071d754365",
   "metadata": {},
   "outputs": [
    {
     "data": {
      "text/html": [
       "<div><div id=1c76d6a2-d3fb-49c6-9fda-50ed916cb7ee style=\"display:none; background-color:#9D6CFF; color:white; width:200px; height:30px; padding-left:5px; border-radius:4px; flex-direction:row; justify-content:space-around; align-items:center;\" onmouseover=\"this.style.backgroundColor='#BA9BF8'\" onmouseout=\"this.style.backgroundColor='#9D6CFF'\" onclick=\"window.commands?.execute('create-mitosheet-from-dataframe-output');\">See Full Dataframe in Mito</div> <script> if (window.commands?.hasCommand('create-mitosheet-from-dataframe-output')) document.getElementById('1c76d6a2-d3fb-49c6-9fda-50ed916cb7ee').style.display = 'flex' </script> <table border=\"1\" class=\"dataframe\">\n",
       "  <thead>\n",
       "    <tr style=\"text-align: right;\">\n",
       "      <th></th>\n",
       "      <th>duration_int</th>\n",
       "      <th>duration_type</th>\n",
       "    </tr>\n",
       "  </thead>\n",
       "  <tbody>\n",
       "    <tr>\n",
       "      <th>0</th>\n",
       "      <td>NaN</td>\n",
       "      <td>NaN</td>\n",
       "    </tr>\n",
       "    <tr>\n",
       "      <th>1</th>\n",
       "      <td>94</td>\n",
       "      <td>min</td>\n",
       "    </tr>\n",
       "    <tr>\n",
       "      <th>2</th>\n",
       "      <td>108</td>\n",
       "      <td>min</td>\n",
       "    </tr>\n",
       "    <tr>\n",
       "      <th>3</th>\n",
       "      <td>97</td>\n",
       "      <td>min</td>\n",
       "    </tr>\n",
       "    <tr>\n",
       "      <th>4</th>\n",
       "      <td>104</td>\n",
       "      <td>min</td>\n",
       "    </tr>\n",
       "  </tbody>\n",
       "</table></div>"
      ],
      "text/plain": [
       "  duration_int duration_type\n",
       "0          NaN           NaN\n",
       "1           94           min\n",
       "2          108           min\n",
       "3           97           min\n",
       "4          104           min"
      ]
     },
     "execution_count": 84,
     "metadata": {},
     "output_type": "execute_result"
    }
   ],
   "source": [
    "hulu[['duration_int', 'duration_type']].head()"
   ]
  },
  {
   "cell_type": "code",
   "execution_count": 91,
   "id": "d87479d1-b37a-45ce-a729-aa6d237d047e",
   "metadata": {},
   "outputs": [],
   "source": [
    "netflix[['duration_int', 'duration_type']] = netflix['duration'].str.split(' ', n=-1, expand=True, regex=None)\n",
    "netflix = netflix[netflix.columns[:10].tolist() + ['duration_int', 'duration_type'] + netflix.columns[10:-2].tolist()]"
   ]
  },
  {
   "cell_type": "code",
   "execution_count": 92,
   "id": "09ef13fd-930b-43ad-9f25-3136ef611034",
   "metadata": {},
   "outputs": [
    {
     "data": {
      "text/html": [
       "<div><div id=013e095b-68ec-495c-9aa8-c941cc83ae0f style=\"display:none; background-color:#9D6CFF; color:white; width:200px; height:30px; padding-left:5px; border-radius:4px; flex-direction:row; justify-content:space-around; align-items:center;\" onmouseover=\"this.style.backgroundColor='#BA9BF8'\" onmouseout=\"this.style.backgroundColor='#9D6CFF'\" onclick=\"window.commands?.execute('create-mitosheet-from-dataframe-output');\">See Full Dataframe in Mito</div> <script> if (window.commands?.hasCommand('create-mitosheet-from-dataframe-output')) document.getElementById('013e095b-68ec-495c-9aa8-c941cc83ae0f').style.display = 'flex' </script> <table border=\"1\" class=\"dataframe\">\n",
       "  <thead>\n",
       "    <tr style=\"text-align: right;\">\n",
       "      <th></th>\n",
       "      <th>duration_int</th>\n",
       "      <th>duration_type</th>\n",
       "    </tr>\n",
       "  </thead>\n",
       "  <tbody>\n",
       "    <tr>\n",
       "      <th>0</th>\n",
       "      <td>90</td>\n",
       "      <td>min</td>\n",
       "    </tr>\n",
       "    <tr>\n",
       "      <th>1</th>\n",
       "      <td>2</td>\n",
       "      <td>Seasons</td>\n",
       "    </tr>\n",
       "    <tr>\n",
       "      <th>2</th>\n",
       "      <td>1</td>\n",
       "      <td>Season</td>\n",
       "    </tr>\n",
       "    <tr>\n",
       "      <th>3</th>\n",
       "      <td>1</td>\n",
       "      <td>Season</td>\n",
       "    </tr>\n",
       "    <tr>\n",
       "      <th>4</th>\n",
       "      <td>2</td>\n",
       "      <td>Seasons</td>\n",
       "    </tr>\n",
       "  </tbody>\n",
       "</table></div>"
      ],
      "text/plain": [
       "  duration_int duration_type\n",
       "0           90           min\n",
       "1            2       Seasons\n",
       "2            1        Season\n",
       "3            1        Season\n",
       "4            2       Seasons"
      ]
     },
     "execution_count": 92,
     "metadata": {},
     "output_type": "execute_result"
    }
   ],
   "source": [
    "netflix[['duration_int', 'duration_type']].head()"
   ]
  },
  {
   "cell_type": "markdown",
   "id": "b0aa0180-1d50-4642-bad8-2ee05a89a5f0",
   "metadata": {},
   "source": [
    "## Los campos de texto deberán estar en **minúsculas**, sin excepciones"
   ]
  },
  {
   "cell_type": "code",
   "execution_count": 74,
   "id": "6a65d18e-e4ef-45ad-b228-53272f37dc2e",
   "metadata": {},
   "outputs": [],
   "source": [
    "# amazon\n",
    "amazon['id'] = amazon['id'].str.lower()\n",
    "amazon['type'] = amazon['type'].str.lower()\n",
    "amazon['title'] = amazon['title'].str.lower()\n",
    "amazon['director'] = amazon['director'].str.lower()\n",
    "amazon['cast'] = amazon['cast'].str.lower()\n",
    "amazon['country'] = amazon['country'].str.lower()\n",
    "amazon['rating'] = amazon['rating'].str.lower()\n",
    "amazon['listed_in'] = amazon['listed_in'].str.lower()\n",
    "amazon['description'] = amazon['description'].str.lower()\n",
    "amazon['duration_type'] = amazon['duration_type'].str.lower()"
   ]
  },
  {
   "cell_type": "code",
   "execution_count": 73,
   "id": "5adb7f7a-f53a-46dd-b9a4-b97344449af9",
   "metadata": {},
   "outputs": [],
   "source": [
    "# disney\n",
    "disney['id'] = disney['id'].str.lower()\n",
    "disney['type'] = disney['type'].str.lower()\n",
    "disney['title'] = disney['title'].str.lower()\n",
    "disney['director'] = disney['director'].str.lower()\n",
    "disney['cast'] = disney['cast'].str.lower()\n",
    "disney['country'] = disney['country'].str.lower()\n",
    "disney['rating'] = disney['rating'].str.lower()\n",
    "disney['listed_in'] = disney['listed_in'].str.lower()\n",
    "disney['description'] = disney['description'].str.lower()\n",
    "disney['duration_type'] = disney['duration_type'].str.lower()"
   ]
  },
  {
   "cell_type": "code",
   "execution_count": 85,
   "id": "45b0814c-49fa-4996-aa70-62064d371a58",
   "metadata": {},
   "outputs": [],
   "source": [
    "# hulu\n",
    "hulu['id'] = hulu['id'].str.lower()\n",
    "hulu['type'] = hulu['type'].str.lower()\n",
    "hulu['title'] = hulu['title'].str.lower()\n",
    "hulu['director'] = hulu['director'].str.lower()\n",
    "hulu['cast'] = hulu['cast'].str.lower()\n",
    "hulu['country'] = hulu['country'].str.lower()\n",
    "hulu['rating'] = hulu['rating'].str.lower()\n",
    "hulu['listed_in'] = hulu['listed_in'].str.lower()\n",
    "hulu['description'] = hulu['description'].str.lower()\n",
    "hulu['duration_type'] = hulu['duration_type'].str.lower()"
   ]
  },
  {
   "cell_type": "code",
   "execution_count": 93,
   "id": "1576a0a6-5e1e-4ee0-91dd-4a1d3bb5d035",
   "metadata": {},
   "outputs": [],
   "source": [
    "# netflix\n",
    "netflix['id'] = netflix['id'].str.lower()\n",
    "netflix['type'] = netflix['type'].str.lower()\n",
    "netflix['title'] = netflix['title'].str.lower()\n",
    "netflix['director'] = netflix['director'].str.lower()\n",
    "netflix['cast'] = netflix['cast'].str.lower()\n",
    "netflix['country'] = netflix['country'].str.lower()\n",
    "netflix['rating'] = netflix['rating'].str.lower()\n",
    "netflix['listed_in'] = netflix['listed_in'].str.lower()\n",
    "netflix['description'] = netflix['description'].str.lower()\n",
    "netflix['duration_type'] = netflix['duration_type'].str.lower()"
   ]
  },
  {
   "cell_type": "markdown",
   "id": "0ac5a916-eb05-45a6-98c1-1dc807b76ccd",
   "metadata": {},
   "source": [
    "# Salvo en disco un fichero con los 4 dataframes juntos.\n",
    "# se llamará data_origen y este sera los datos de entrada en Ingenieria_Datos_II.ipynb"
   ]
  },
  {
   "cell_type": "code",
   "execution_count": 127,
   "id": "9bd25211-b818-4add-9d8e-da165b5fc749",
   "metadata": {},
   "outputs": [],
   "source": [
    "data = pd.concat([amazon,disney,hulu,netflix])"
   ]
  },
  {
   "cell_type": "code",
   "execution_count": 147,
   "id": "e49974c9-35cd-45d8-9dde-f38a5fa1e518",
   "metadata": {},
   "outputs": [],
   "source": [
    "data.to_csv(r\"C:\\Users\\ornal\\Desktop\\PI01-Data-Engineering\\API Server\\data_origen.csv\")"
   ]
  }
 ],
 "metadata": {
  "kernelspec": {
   "display_name": "Python 3 (ipykernel)",
   "language": "python",
   "name": "python3"
  },
  "language_info": {
   "codemirror_mode": {
    "name": "ipython",
    "version": 3
   },
   "file_extension": ".py",
   "mimetype": "text/x-python",
   "name": "python",
   "nbconvert_exporter": "python",
   "pygments_lexer": "ipython3",
   "version": "3.10.5"
  }
 },
 "nbformat": 4,
 "nbformat_minor": 5
}
